{
 "cells": [
  {
   "cell_type": "code",
   "execution_count": null,
   "metadata": {},
   "outputs": [],
   "source": [
    "import os\n",
    "import shutil\n",
    "import sqlite3\n",
    "from datetime import datetime"
   ]
  },
  {
   "cell_type": "code",
   "execution_count": null,
   "metadata": {},
   "outputs": [],
   "source": [
    "import dataframe_image as dfi\n",
    "import numpy as np\n",
    "import pandas as pd\n",
    "import seaborn as sns\n",
    "import squarify\n",
    "from matplotlib import pyplot as plt\n",
    "from pandas.core.frame import DataFrame\n",
    "from sklearn.preprocessing import StandardScaler"
   ]
  },
  {
   "cell_type": "code",
   "execution_count": null,
   "metadata": {},
   "outputs": [],
   "source": [
    "DATE_FORMAT = \"%Y-%m-%d %H:%M:%S\""
   ]
  },
  {
   "cell_type": "markdown",
   "metadata": {},
   "source": [
    "CONFIG"
   ]
  },
  {
   "cell_type": "code",
   "execution_count": null,
   "metadata": {},
   "outputs": [],
   "source": [
    "plt.style.use(\"fivethirtyeight\")\n",
    "pd.set_option('display.max_rows', None)\n",
    "pd.set_option('display.max_columns', None)"
   ]
  },
  {
   "cell_type": "code",
   "execution_count": null,
   "metadata": {},
   "outputs": [],
   "source": [
    "def display_plot(plot, filename: str, prefix: str) -> None:\n",
    "    plt.show()\n",
    "    plt.close()"
   ]
  },
  {
   "cell_type": "code",
   "execution_count": null,
   "metadata": {},
   "outputs": [],
   "source": [
    "def load_data():\n",
    "    \"\"\"Load the data from the db, extract the RFM and average review attributes and returns them.\"\"\"\n",
    "    con = sqlite3.connect(\"resources/olist.db\")\n",
    "    con.row_factory = sqlite3.Row\n",
    "    cur = con.cursor()\n",
    "    res = cur.execute(\"\"\"SELECT customer_id, customer_unique_id FROM customers \n",
    "    where customer_id in (select customer_id from orders)\"\"\")\n",
    "    customers = res.fetchall()\n",
    "    res = cur.execute(\"select order_id, review_score from order_reviews\")\n",
    "    reviews = res.fetchall()\n",
    "    res = cur.execute(\n",
    "        \"\"\"SELECT o.order_id, o.customer_id, o.order_purchase_timestamp, oi.price\n",
    "    FROM orders o\n",
    "    inner join order_items oi on o.order_id = oi.order_id\"\"\")\n",
    "    orders = res.fetchall()\n",
    "    cur.close()\n",
    "    con.close()\n",
    "    sorted_reviews = {}\n",
    "    for review in reviews:\n",
    "        sorted_reviews.setdefault(review['order_id'], []).append(review['review_score'])\n",
    "    sorted_orders = {}\n",
    "    for order in [dict(order) for order in orders]:\n",
    "        order['review_score'] = sorted_reviews[order['order_id']][0] if order['order_id'] in sorted_reviews else None\n",
    "        sorted_orders.setdefault(order['customer_id'], []).append(order)\n",
    "    sorted_customers = {}\n",
    "    for customer in [dict(customer) for customer in customers]:\n",
    "        sorted_customers.setdefault(customer['customer_unique_id'], []).append(customer['customer_id'])\n",
    "    clients = []\n",
    "    for customer_unique_id in sorted_customers.keys():\n",
    "        customer_ids = sorted_customers[customer_unique_id]\n",
    "        customer_orders = []\n",
    "        for customer_id in customer_ids:\n",
    "            customer_orders += sorted_orders[customer_id] if customer_id in sorted_orders else []\n",
    "        if len(customer_orders) == 0:\n",
    "            continue\n",
    "        total_amount = sum([order['price'] for order in customer_orders])\n",
    "        nb_products = len(customer_orders)\n",
    "        order_timestamps = [datetime.strptime(order['order_purchase_timestamp'], DATE_FORMAT)\n",
    "                            for order in customer_orders]\n",
    "        latest_purchase_date: datetime = max(order_timestamps)\n",
    "        days_since_last_purchase = (datetime.now() - latest_purchase_date).days\n",
    "        review_scores = [order['review_score']\n",
    "                         for order in customer_orders if order['review_score'] is not None]\n",
    "        if len(review_scores) > 0:\n",
    "            average_review = sum(review_scores) / len(review_scores)\n",
    "        else:\n",
    "            average_review = 0\n",
    "\n",
    "        # Excludes 71 clients for a better visibility of the clusters\n",
    "        if nb_products < 8:\n",
    "            clients.append({\n",
    "                'average_review': average_review,\n",
    "                'recency': days_since_last_purchase,\n",
    "                'frequency': nb_products,\n",
    "                'monetary_value': total_amount\n",
    "            })\n",
    "    return DataFrame(clients)"
   ]
  },
  {
   "cell_type": "code",
   "execution_count": null,
   "metadata": {},
   "outputs": [],
   "source": [
    "def save_rfm_stats(df: DataFrame):\n",
    "    \"\"\"Generate and display a table containing the RFM stats per segment.\"\"\"\n",
    "    RFM_stats = df.groupby(\"RFM_Level\").agg({\n",
    "        'recency': 'mean',\n",
    "        'frequency': 'mean',\n",
    "        'monetary_value': ['mean', 'count']\n",
    "    }).round(1)\n",
    "    RFM_stats.columns = RFM_stats.columns.droplevel()\n",
    "    RFM_stats.columns = [\n",
    "        'Recency_Mean',\n",
    "        'Frequency_Mean',\n",
    "        'MonetaryValue_Mean',\n",
    "        'MonetaryValue_Count']\n",
    "    RFM_stats.sort_values(\"MonetaryValue_Count\", ascending=False, inplace=True)\n",
    "    dfi.export(\n",
    "        RFM_stats,\n",
    "        'analysis_plots/RFM/RFM_stats.png',\n",
    "        table_conversion='matplotlib',\n",
    "        fontsize=9)\n",
    "    return RFM_stats"
   ]
  },
  {
   "cell_type": "code",
   "execution_count": null,
   "metadata": {},
   "outputs": [],
   "source": [
    "def save_rfm_segments(RFM_stats):\n",
    "    \"\"\"Display the RFM segments in a square plot.\"\"\"\n",
    "    fig = plt.gcf()\n",
    "    fig.set_size_inches(16, 9)\n",
    "    plot = squarify.plot(\n",
    "        sizes=RFM_stats['MonetaryValue_Count'],\n",
    "        label=[\n",
    "            'Champions',\n",
    "            'Loyaux',\n",
    "            'Loyalistes potentiels',\n",
    "            'À réactiver',\n",
    "            'À risque',\n",
    "            'Perdus'\n",
    "        ],\n",
    "        color=[\n",
    "            \"green\",\n",
    "            \"orange\",\n",
    "            \"purple\",\n",
    "            \"maroon\",\n",
    "            \"pink\",\n",
    "            \"teal\"],\n",
    "        alpha=0.6)\n",
    "    plot.set_title(\"RFM Segments\")\n",
    "    plot.set_axis_off()\n",
    "    plot.get_figure().savefig(f\"analysis_plots/RFM/RFM_segments.png\")\n",
    "    plt.close()"
   ]
  },
  {
   "cell_type": "code",
   "execution_count": null,
   "metadata": {},
   "outputs": [],
   "source": [
    "def create_pieplot_for_RFM_segments(df, prefix):\n",
    "    \"\"\"Generate and display the pie plot for the RFM segments.\"\"\"\n",
    "    unique_values = df[\"RFM_Level\"].unique()\n",
    "    data = []\n",
    "    labels = []\n",
    "    for value in unique_values:\n",
    "        values_count = df[\"RFM_Level\"].value_counts()[value]\n",
    "        data.append(values_count)\n",
    "        labels.append(value)\n",
    "    plt.figure(figsize=(10, 8))\n",
    "    colors = sns.color_palette('pastel')[0:6]\n",
    "    plt.pie(data, labels=labels, colors=colors, autopct='%.0f%%')\n",
    "    plt.title('RFM segments distribution')\n",
    "    plt.savefig(f\"analysis_plots/visualization_{prefix}/RFM_segments_pieplot.png\")\n",
    "    plt.close()"
   ]
  },
  {
   "cell_type": "code",
   "execution_count": null,
   "metadata": {},
   "outputs": [],
   "source": [
    "def visualize_data(df, prefix):\n",
    "    \"\"\"Generate and display the distribution plot for all attributes.\"\"\"\n",
    "    create_visualization_plot_for_attribute(df, \"Recency\", prefix)\n",
    "    create_visualization_plot_for_attribute(df, \"Frequency\", prefix)\n",
    "    create_visualization_plot_for_attribute(df, \"Monetary_Value\", prefix)\n",
    "    create_visualization_plot_for_attribute(df, \"average_review\", prefix)\n",
    "    create_visualization_plot_for_attribute(df, \"RFM_Score\", prefix)\n",
    "    if \"RFM_Level\" in df.columns:\n",
    "        create_pieplot_for_RFM_segments(df, prefix)"
   ]
  },
  {
   "cell_type": "code",
   "execution_count": null,
   "metadata": {},
   "outputs": [],
   "source": [
    "def create_visualization_plot_for_attribute(df, attribute: str, prefix):\n",
    "    \"\"\"Generate and display the distribution plot for the given attribute.\"\"\"\n",
    "    column_name = attribute.lower().replace(\" \", \"_\")\n",
    "    if column_name != \"rfm_score\":\n",
    "        plt.figure(figsize=(8, 8))\n",
    "        plot = sns.displot(df[column_name])\n",
    "        plot.set_xlabels(attribute.replace(\"average_review\", \"Average Review\"))\n",
    "        plot.set_ylabels(\"Count\")\n",
    "        display_plot(plot, f\"{column_name}_distplot\", f\"visualization_{prefix}\")"
   ]
  },
  {
   "cell_type": "code",
   "execution_count": null,
   "metadata": {},
   "outputs": [],
   "source": [
    "def add_rfm_columns(df):\n",
    "    \"\"\"Add RFM related columns to dataframe.\"\"\"\n",
    "    Rlabel = range(4, 0, -1)\n",
    "    Mlabel = range(1, 5)\n",
    "    df['R'] = pd.qcut(df['recency'], q=4, labels=Rlabel).values\n",
    "    df['M'] = pd.qcut(df['monetary_value'], q=4, labels=Mlabel).values\n",
    "    df['F'] = np.where(df['frequency'] == 1, 1, 2)  # Good enough\n",
    "    df['RFM_Score'] = df[['R', 'F', 'M']].sum(axis=1)\n",
    "    df['RFM_Level'] = df.apply(rfm_level, axis=1)\n",
    "    return df"
   ]
  },
  {
   "cell_type": "code",
   "execution_count": null,
   "metadata": {},
   "outputs": [],
   "source": [
    "def rfm_level(df):\n",
    "    \"\"\"Returns the RFM level in text from the RFM score.\"\"\"\n",
    "    if (df['RFM_Score'] >= 7) and (df['RFM_Score'] < 9):\n",
    "        return 'Champions'\n",
    "    elif (df['RFM_Score'] >= 6) and (df['RFM_Score'] < 7):\n",
    "        return 'Loyaux'\n",
    "    elif (df['RFM_Score'] >= 5) and (df['RFM_Score'] < 6):\n",
    "        return 'Loyalistes potentiels'\n",
    "    elif (df['RFM_Score'] >= 4) and (df['RFM_Score'] < 5):\n",
    "        return 'À réactiver'\n",
    "    elif (df['RFM_Score'] >= 3) and (df['RFM_Score'] < 4):\n",
    "        return 'À risque'\n",
    "    else:\n",
    "        return 'Perdus'"
   ]
  },
  {
   "cell_type": "code",
   "execution_count": null,
   "metadata": {},
   "outputs": [],
   "source": [
    "def visualize_rfm_segments(df):\n",
    "    os.makedirs(\"analysis_plots/RFM\", exist_ok=True)\n",
    "    RFM_stats = save_rfm_stats(df)\n",
    "    save_rfm_segments(RFM_stats)"
   ]
  }
 ],
 "metadata": {
  "kernelspec": {
   "display_name": "Python 3 (ipykernel)",
   "language": "python",
   "name": "python3"
  },
  "language_info": {
   "codemirror_mode": {
    "name": "ipython",
    "version": 3
   },
   "file_extension": ".py",
   "mimetype": "text/x-python",
   "name": "python",
   "nbconvert_exporter": "python",
   "pygments_lexer": "ipython3",
   "version": "3.12.3"
  }
 },
 "nbformat": 4,
 "nbformat_minor": 4
}
